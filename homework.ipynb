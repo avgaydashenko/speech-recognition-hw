{
 "cells": [
  {
   "cell_type": "code",
   "execution_count": 1,
   "metadata": {},
   "outputs": [],
   "source": [
    "import pandas as pd\n",
    "\n",
    "from os import listdir\n",
    "from scipy.io import wavfile\n",
    "from sklearn.model_selection import StratifiedShuffleSplit\n",
    "\n",
    "%matplotlib inline"
   ]
  },
  {
   "cell_type": "code",
   "execution_count": 2,
   "metadata": {},
   "outputs": [],
   "source": [
    "txts = 'data/VCTK-Corpus/txt/p239/'\n",
    "wavs = 'data/VCTK-Corpus/wav48/p239/'"
   ]
  },
  {
   "cell_type": "markdown",
   "metadata": {},
   "source": [
    "## Creating manifests"
   ]
  },
  {
   "cell_type": "code",
   "execution_count": 3,
   "metadata": {},
   "outputs": [],
   "source": [
    "ids = [path[5:8] for path in listdir(wavs)]\n",
    "lens = [len(wavfile.read(wavs + path)[1]) for path in listdir(wavs)]\n",
    "lens = pd.Series(lens, ids)"
   ]
  },
  {
   "cell_type": "code",
   "execution_count": 4,
   "metadata": {},
   "outputs": [
    {
     "data": {
      "image/png": "[encoded data removed]",
      "text/plain": [
       "<matplotlib.figure.Figure at 0x10ee7e6d8>"
      ]
     },
     "metadata": {},
     "output_type": "display_data"
    }
   ],
   "source": [
    "lens.hist();"
   ]
  },
  {
   "cell_type": "code",
   "execution_count": 5,
   "metadata": {},
   "outputs": [],
   "source": [
    "lens = lens[lens <= 250000]"
   ]
  },
  {
   "cell_type": "code",
   "execution_count": 6,
   "metadata": {},
   "outputs": [
    {
     "data": {
      "image/png": "[encoded data removed]",
      "text/plain": [
       "<matplotlib.figure.Figure at 0x113c85860>"
      ]
     },
     "metadata": {},
     "output_type": "display_data"
    }
   ],
   "source": [
    "lens.hist();"
   ]
  },
  {
   "cell_type": "code",
   "execution_count": 7,
   "metadata": {},
   "outputs": [],
   "source": [
    "X = lens.index\n",
    "y = lens.values // 21150\n",
    "\n",
    "sss = StratifiedShuffleSplit(n_splits=1, test_size=0.15, random_state=0)\n",
    "for train_index, test_index in sss.split(X, y):\n",
    "    X_train, X_test = X[train_index], X[test_index]\n",
    "    \n",
    "test = lens[lens.index.isin(X_test)]\n",
    "train = lens[lens.index.isin(X_train)]"
   ]
  },
  {
   "cell_type": "code",
   "execution_count": 8,
   "metadata": {},
   "outputs": [
    {
     "data": {
      "text/plain": [
       "<matplotlib.axes._subplots.AxesSubplot at 0x10dd83710>"
      ]
     },
     "execution_count": 8,
     "metadata": {},
     "output_type": "execute_result"
    },
    {
     "data": {
      "image/png": "[encoded data removed]",
      "text/plain": [
       "<matplotlib.figure.Figure at 0x10dd5b748>"
      ]
     },
     "metadata": {},
     "output_type": "display_data"
    }
   ],
   "source": [
    "test.hist()"
   ]
  },
  {
   "cell_type": "code",
   "execution_count": 9,
   "metadata": {},
   "outputs": [
    {
     "data": {
      "text/plain": [
       "<matplotlib.axes._subplots.AxesSubplot at 0x1140a5e80>"
      ]
     },
     "execution_count": 9,
     "metadata": {},
     "output_type": "execute_result"
    },
    {
     "data": {
      "image/png": "[encoded data removed]",
      "text/plain": [
       "<matplotlib.figure.Figure at 0x1140be898>"
      ]
     },
     "metadata": {},
     "output_type": "display_data"
    }
   ],
   "source": [
    "train.hist()"
   ]
  },
  {
   "cell_type": "code",
   "execution_count": 10,
   "metadata": {},
   "outputs": [
    {
     "data": {
      "text/plain": [
       "(74, 418)"
      ]
     },
     "execution_count": 10,
     "metadata": {},
     "output_type": "execute_result"
    }
   ],
   "source": [
    "len(test), len(train)"
   ]
  },
  {
   "cell_type": "code",
   "execution_count": 11,
   "metadata": {},
   "outputs": [],
   "source": [
    "wav = lambda x: wavs + 'p239_{}.wav'.format(x)\n",
    "txt = lambda x: txts + 'p239_{}.txt'.format(x)\n",
    "\n",
    "def manifest(filename, ids):\n",
    "    wav_files = [wav(i) for i in ids]\n",
    "    txt_files = [txt(i) for i in ids]\n",
    "    lines = ['{},{}\\n'.format(fst, snd) for fst, snd in zip(wav_files, txt_files)]\n",
    "    with open(filename, 'w') as f:\n",
    "        f.writelines(lines)"
   ]
  },
  {
   "cell_type": "code",
   "execution_count": 12,
   "metadata": {},
   "outputs": [],
   "source": [
    "manifest('test.csv', test.index)\n",
    "manifest('train.csv', train.index)"
   ]
  },
  {
   "cell_type": "code",
   "execution_count": 14,
   "metadata": {},
   "outputs": [
    {
     "name": "stdout",
     "output_type": "stream",
     "text": [
      "Model Save directory already exists.\n",
      "DeepSpeech(\n",
      "  (conv): Sequential(\n",
      "    (0): Conv2d (1, 32, kernel_size=(41, 11), stride=(2, 2), padding=(0, 10))\n",
      "    (1): BatchNorm2d(32, eps=1e-05, momentum=0.1, affine=True)\n",
      "    (2): Hardtanh(min_val=0, max_val=20, inplace)\n",
      "    (3): Conv2d (32, 32, kernel_size=(21, 11), stride=(2, 1))\n",
      "    (4): BatchNorm2d(32, eps=1e-05, momentum=0.1, affine=True)\n",
      "    (5): Hardtanh(min_val=0, max_val=20, inplace)\n",
      "  )\n",
      "  (rnns): Sequential(\n",
      "    (0): BatchRNN(\n",
      "      (rnn): GRU(672, 800, bias=False, bidirectional=True)\n",
      "    )\n",
      "    (1): BatchRNN(\n",
      "      (batch_norm): SequenceWise (\n",
      "      BatchNorm1d(800, eps=1e-05, momentum=0.1, affine=True))\n",
      "      (rnn): GRU(800, 800, bias=False, bidirectional=True)\n",
      "    )\n",
      "    (2): BatchRNN(\n",
      "      (batch_norm): SequenceWise (\n",
      "      BatchNorm1d(800, eps=1e-05, momentum=0.1, affine=True))\n",
      "      (rnn): GRU(800, 800, bias=False, bidirectional=True)\n",
      "    )\n",
      "    (3): BatchRNN(\n",
      "      (batch_norm): SequenceWise (\n",
      "      BatchNorm1d(800, eps=1e-05, momentum=0.1, affine=True))\n",
      "      (rnn): GRU(800, 800, bias=False, bidirectional=True)\n",
      "    )\n",
      "    (4): BatchRNN(\n",
      "      (batch_norm): SequenceWise (\n",
      "      BatchNorm1d(800, eps=1e-05, momentum=0.1, affine=True))\n",
      "      (rnn): GRU(800, 800, bias=False, bidirectional=True)\n",
      "    )\n",
      "  )\n",
      "  (fc): Sequential(\n",
      "    (0): SequenceWise (\n",
      "    Sequential(\n",
      "      (0): BatchNorm1d(800, eps=1e-05, momentum=0.1, affine=True)\n",
      "      (1): Linear(in_features=800, out_features=29)\n",
      "    ))\n",
      "  )\n",
      "  (inference_softmax): InferenceBatchSoftmax(\n",
      "  )\n",
      ")\n",
      "Number of parameters: 38067968\n",
      "Traceback (most recent call last):\n",
      "  File \"deepspeech.pytorch/train.py\", line 257, in <module>\n",
      "    loss = criterion(out, targets, sizes, target_sizes)\n",
      "  File \"/usr/local/Cellar/anaconda3/lib/python3.6/site-packages/torch/nn/modules/module.py\", line 325, in __call__\n",
      "    result = self.forward(*input, **kwargs)\n",
      "  File \"/usr/local/Cellar/anaconda3/lib/python3.6/site-packages/warpctc_pytorch-0.1-py3.6-macosx-10.7-x86_64.egg/warpctc_pytorch/__init__.py\", line 76, in forward\n",
      "    self.length_average)\n",
      "  File \"/usr/local/Cellar/anaconda3/lib/python3.6/site-packages/warpctc_pytorch-0.1-py3.6-macosx-10.7-x86_64.egg/warpctc_pytorch/__init__.py\", line 17, in forward\n",
      "    loss_func = warp_ctc.gpu_ctc if is_cuda else warp_ctc.cpu_ctc\n",
      "AttributeError: module 'warpctc_pytorch' has no attribute 'cpu_ctc'\n"
     ]
    }
   ],
   "source": [
    "! python deepspeech.pytorch/train.py --train-manifest train.csv --val-manifest test.csv --epochs 1 --batch-size 10 --labels-path=deepspeech.pytorch/labels.json"
   ]
  },
  {
   "cell_type": "code",
   "execution_count": 1,
   "metadata": {},
   "outputs": [
    {
     "ename": "ImportError",
     "evalue": "dlopen(/usr/local/Cellar/anaconda3/lib/python3.6/site-packages/warpctc_pytorch/_warp_ctc/__warp_ctc.cpython-36m-darwin.so, 2): Symbol not found: _luaL_setfuncs\n  Referenced from: /usr/local/lib/libluaT.0.dylib\n  Expected in: flat namespace\n in /usr/local/lib/libluaT.0.dylib",
     "output_type": "error",
     "traceback": [
      "\u001b[0;31m---------------------------------------------------------------------------\u001b[0m",
      "\u001b[0;31mImportError\u001b[0m                               Traceback (most recent call last)",
      "\u001b[0;32m<ipython-input-1-76bc221e404b>\u001b[0m in \u001b[0;36m<module>\u001b[0;34m()\u001b[0m\n\u001b[0;32m----> 1\u001b[0;31m \u001b[0;32mimport\u001b[0m \u001b[0mwarpctc_pytorch\u001b[0m\u001b[0;34m\u001b[0m\u001b[0m\n\u001b[0m",
      "\u001b[0;32m/usr/local/Cellar/anaconda3/lib/python3.6/site-packages/warpctc_pytorch/__init__.py\u001b[0m in \u001b[0;36m<module>\u001b[0;34m()\u001b[0m\n\u001b[1;32m      6\u001b[0m \u001b[0;32mfrom\u001b[0m \u001b[0mtorch\u001b[0m\u001b[0;34m.\u001b[0m\u001b[0mnn\u001b[0m\u001b[0;34m.\u001b[0m\u001b[0mmodules\u001b[0m\u001b[0;34m.\u001b[0m\u001b[0mloss\u001b[0m \u001b[0;32mimport\u001b[0m \u001b[0m_assert_no_grad\u001b[0m\u001b[0;34m\u001b[0m\u001b[0m\n\u001b[1;32m      7\u001b[0m \u001b[0;34m\u001b[0m\u001b[0m\n\u001b[0;32m----> 8\u001b[0;31m \u001b[0;32mfrom\u001b[0m \u001b[0;34m.\u001b[0m\u001b[0m_warp_ctc\u001b[0m \u001b[0;32mimport\u001b[0m \u001b[0;34m*\u001b[0m\u001b[0;34m\u001b[0m\u001b[0m\n\u001b[0m\u001b[1;32m      9\u001b[0m \u001b[0;34m\u001b[0m\u001b[0m\n\u001b[1;32m     10\u001b[0m \u001b[0;34m\u001b[0m\u001b[0m\n",
      "\u001b[0;32m/usr/local/Cellar/anaconda3/lib/python3.6/site-packages/warpctc_pytorch/_warp_ctc/__init__.py\u001b[0m in \u001b[0;36m<module>\u001b[0;34m()\u001b[0m\n\u001b[1;32m      1\u001b[0m \u001b[0;34m\u001b[0m\u001b[0m\n\u001b[1;32m      2\u001b[0m \u001b[0;32mfrom\u001b[0m \u001b[0mtorch\u001b[0m\u001b[0;34m.\u001b[0m\u001b[0mutils\u001b[0m\u001b[0;34m.\u001b[0m\u001b[0mffi\u001b[0m \u001b[0;32mimport\u001b[0m \u001b[0m_wrap_function\u001b[0m\u001b[0;34m\u001b[0m\u001b[0m\n\u001b[0;32m----> 3\u001b[0;31m \u001b[0;32mfrom\u001b[0m \u001b[0;34m.\u001b[0m\u001b[0m__warp_ctc\u001b[0m \u001b[0;32mimport\u001b[0m \u001b[0mlib\u001b[0m \u001b[0;32mas\u001b[0m \u001b[0m_lib\u001b[0m\u001b[0;34m,\u001b[0m \u001b[0mffi\u001b[0m \u001b[0;32mas\u001b[0m \u001b[0m_ffi\u001b[0m\u001b[0;34m\u001b[0m\u001b[0m\n\u001b[0m\u001b[1;32m      4\u001b[0m \u001b[0;34m\u001b[0m\u001b[0m\n\u001b[1;32m      5\u001b[0m \u001b[0m__all__\u001b[0m \u001b[0;34m=\u001b[0m \u001b[0;34m[\u001b[0m\u001b[0;34m]\u001b[0m\u001b[0;34m\u001b[0m\u001b[0m\n",
      "\u001b[0;31mImportError\u001b[0m: dlopen(/usr/local/Cellar/anaconda3/lib/python3.6/site-packages/warpctc_pytorch/_warp_ctc/__warp_ctc.cpython-36m-darwin.so, 2): Symbol not found: _luaL_setfuncs\n  Referenced from: /usr/local/lib/libluaT.0.dylib\n  Expected in: flat namespace\n in /usr/local/lib/libluaT.0.dylib"
     ]
    }
   ],
   "source": [
    "import warpctc_pytorch"
   ]
  },
  {
   "cell_type": "code",
   "execution_count": null,
   "metadata": {},
   "outputs": [],
   "source": []
  }
 ],
 "metadata": {
  "kernelspec": {
   "display_name": "Python 3",
   "language": "python",
   "name": "python3"
  },
  "language_info": {
   "codemirror_mode": {
    "name": "ipython",
    "version": 3
   },
   "file_extension": ".py",
   "mimetype": "text/x-python",
   "name": "python",
   "nbconvert_exporter": "python",
   "pygments_lexer": "ipython3",
   "version": "3.6.3"
  }
 },
 "nbformat": 4,
 "nbformat_minor": 2
}
