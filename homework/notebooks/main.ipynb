{
 "cells": [
  {
   "cell_type": "code",
   "execution_count": 1,
   "metadata": {},
   "outputs": [
    {
     "name": "stderr",
     "output_type": "stream",
     "text": [
      "/usr/local/lib/python2.7/site-packages/h5py/__init__.py:36: FutureWarning: Conversion of the second argument of issubdtype from `float` to `np.floating` is deprecated. In future, it will be treated as `np.float64 == np.dtype(float).type`.\n",
      "  from ._conv import register_converters as _register_converters\n",
      "Using TensorFlow backend.\n"
     ]
    }
   ],
   "source": [
    "import librosa\n",
    "import numpy as np\n",
    "import pandas as pd\n",
    "import h5py\n",
    "import scipy.io.wavfile as wav\n",
    "import matplotlib.pyplot as plt\n",
    "\n",
    "import keras\n",
    "from keras.models import Sequential, Model, Input\n",
    "from keras.layers import Dense, LSTM\n",
    "\n",
    "from sklearn.model_selection import StratifiedShuffleSplit\n",
    "\n",
    "import sys\n",
    "sys.path.append('..')\n",
    "\n",
    "%matplotlib inline\n",
    "\n",
    "from laughter_classification.sspnet_data_sampler import SSPNetDataSampler"
   ]
  },
  {
   "cell_type": "code",
   "execution_count": 2,
   "metadata": {},
   "outputs": [],
   "source": [
    "RATE = 16000 # samples in sec\n",
    "DUR = 11 # file duration in seconds\n",
    "LEN = RATE * DUR # samples in file (176000)\n",
    "FRAME_SEC = 0.1 # seconds in frame\n",
    "FRAME_SIZE = int(RATE * FRAME_SEC) # samples if frame (1600)\n",
    "FRAME_STEP = int(FRAME_SIZE / 2) # samples between successive frames (800)\n",
    "NUM_CLASSES = 2 # laught or not"
   ]
  },
  {
   "cell_type": "markdown",
   "metadata": {},
   "source": [
    "* Added `LibrosaExtractor` in `laughter_prediction.feature_extractors` to extract MFCC and FBANK features using librosa, using it in `SSPNetDataSampler`.\n",
    "\n",
    "\n",
    "* Rewrote `SSPNetDataSampler` in `laughter_classification.sspnet_data_sampler` which creates dataset from vocalizationcorpus and returns DataFrame with overlapping frames described by features, label of class and filename."
   ]
  },
  {
   "cell_type": "code",
   "execution_count": 3,
   "metadata": {},
   "outputs": [],
   "source": [
    "# smplr = SSPNetDataSampler('../../data/vocalizationcorpus/')\n",
    "# data = smplr.create_sampled_df(FRAME_SEC)\n",
    "# data.to_csv('../../data/samples.csv', index=False)\n",
    "\n",
    "data = pd.read_csv('../../data/samples.csv')"
   ]
  },
  {
   "cell_type": "code",
   "execution_count": 47,
   "metadata": {},
   "outputs": [],
   "source": [
    "# smplr = SSPNetDataSampler('../../data/noisy/')\n",
    "# noisy = smplr.create_sampled_df(FRAME_SEC)\n",
    "# noisy.to_csv('../../data/noisy.csv', index=False)\n",
    "\n",
    "noisy = pd.read_csv('../../data/noisy.csv')"
   ]
  },
  {
   "cell_type": "code",
   "execution_count": 5,
   "metadata": {},
   "outputs": [
    {
     "data": {
      "text/plain": [
       "((596230, 150), (596230, 150))"
      ]
     },
     "execution_count": 5,
     "metadata": {},
     "output_type": "execute_result"
    }
   ],
   "source": [
    "data.shape, noisy.shape"
   ]
  },
  {
   "cell_type": "code",
   "execution_count": 13,
   "metadata": {},
   "outputs": [],
   "source": [
    "frames_num = 218 # number of frames for each .wav file\n",
    "vector_len = 148 # number of features describing each frame\n",
    "mfcc_len = 20\n",
    "fbank_len = 128"
   ]
  },
  {
   "cell_type": "code",
   "execution_count": 48,
   "metadata": {},
   "outputs": [
    {
     "data": {
      "text/html": [
       "<div>\n",
       "<style scoped>\n",
       "    .dataframe tbody tr th:only-of-type {\n",
       "        vertical-align: middle;\n",
       "    }\n",
       "\n",
       "    .dataframe tbody tr th {\n",
       "        vertical-align: top;\n",
       "    }\n",
       "\n",
       "    .dataframe thead th {\n",
       "        text-align: right;\n",
       "    }\n",
       "</style>\n",
       "<table border=\"1\" class=\"dataframe\">\n",
       "  <thead>\n",
       "    <tr style=\"text-align: right;\">\n",
       "      <th></th>\n",
       "      <th>V0</th>\n",
       "      <th>V1</th>\n",
       "      <th>V2</th>\n",
       "      <th>V3</th>\n",
       "      <th>V4</th>\n",
       "      <th>V5</th>\n",
       "      <th>V6</th>\n",
       "      <th>V7</th>\n",
       "      <th>V8</th>\n",
       "      <th>V9</th>\n",
       "      <th>...</th>\n",
       "      <th>V140</th>\n",
       "      <th>V141</th>\n",
       "      <th>V142</th>\n",
       "      <th>V143</th>\n",
       "      <th>V144</th>\n",
       "      <th>V145</th>\n",
       "      <th>V146</th>\n",
       "      <th>V147</th>\n",
       "      <th>IS_LAUGHTER</th>\n",
       "      <th>SNAME</th>\n",
       "    </tr>\n",
       "  </thead>\n",
       "  <tbody>\n",
       "    <tr>\n",
       "      <th>0</th>\n",
       "      <td>722.448268</td>\n",
       "      <td>36.338742</td>\n",
       "      <td>22.475443</td>\n",
       "      <td>18.080093</td>\n",
       "      <td>-11.599281</td>\n",
       "      <td>33.092202</td>\n",
       "      <td>-4.693004</td>\n",
       "      <td>12.987532</td>\n",
       "      <td>5.610922</td>\n",
       "      <td>0.324443</td>\n",
       "      <td>...</td>\n",
       "      <td>5.430425e+05</td>\n",
       "      <td>4.701793e+05</td>\n",
       "      <td>4.629036e+05</td>\n",
       "      <td>6.163514e+05</td>\n",
       "      <td>4.624041e+05</td>\n",
       "      <td>4.929520e+05</td>\n",
       "      <td>2.498697e+05</td>\n",
       "      <td>2.618041e+04</td>\n",
       "      <td>False</td>\n",
       "      <td>S1584</td>\n",
       "    </tr>\n",
       "    <tr>\n",
       "      <th>1</th>\n",
       "      <td>778.187301</td>\n",
       "      <td>-8.663263</td>\n",
       "      <td>31.407063</td>\n",
       "      <td>33.577230</td>\n",
       "      <td>-7.340256</td>\n",
       "      <td>33.056543</td>\n",
       "      <td>-14.590332</td>\n",
       "      <td>18.488656</td>\n",
       "      <td>-9.602763</td>\n",
       "      <td>1.987624</td>\n",
       "      <td>...</td>\n",
       "      <td>3.631684e+06</td>\n",
       "      <td>6.943901e+06</td>\n",
       "      <td>6.971661e+06</td>\n",
       "      <td>5.686632e+06</td>\n",
       "      <td>1.820535e+06</td>\n",
       "      <td>2.380319e+06</td>\n",
       "      <td>3.478466e+06</td>\n",
       "      <td>1.565918e+05</td>\n",
       "      <td>False</td>\n",
       "      <td>S1584</td>\n",
       "    </tr>\n",
       "    <tr>\n",
       "      <th>2</th>\n",
       "      <td>849.900808</td>\n",
       "      <td>-3.912614</td>\n",
       "      <td>13.740675</td>\n",
       "      <td>51.180949</td>\n",
       "      <td>-0.269440</td>\n",
       "      <td>38.814082</td>\n",
       "      <td>-18.498157</td>\n",
       "      <td>19.804303</td>\n",
       "      <td>-18.298947</td>\n",
       "      <td>-6.939618</td>\n",
       "      <td>...</td>\n",
       "      <td>4.227182e+06</td>\n",
       "      <td>7.169921e+06</td>\n",
       "      <td>6.772366e+06</td>\n",
       "      <td>5.081521e+06</td>\n",
       "      <td>1.423465e+06</td>\n",
       "      <td>1.765337e+06</td>\n",
       "      <td>2.937778e+06</td>\n",
       "      <td>1.050464e+05</td>\n",
       "      <td>False</td>\n",
       "      <td>S1584</td>\n",
       "    </tr>\n",
       "    <tr>\n",
       "      <th>3</th>\n",
       "      <td>831.572348</td>\n",
       "      <td>26.399493</td>\n",
       "      <td>-17.299518</td>\n",
       "      <td>63.644995</td>\n",
       "      <td>-0.932313</td>\n",
       "      <td>32.298724</td>\n",
       "      <td>-8.193442</td>\n",
       "      <td>11.379886</td>\n",
       "      <td>-10.025327</td>\n",
       "      <td>-12.250456</td>\n",
       "      <td>...</td>\n",
       "      <td>1.165055e+06</td>\n",
       "      <td>9.328189e+05</td>\n",
       "      <td>1.408208e+06</td>\n",
       "      <td>1.019245e+06</td>\n",
       "      <td>6.339184e+05</td>\n",
       "      <td>5.522364e+05</td>\n",
       "      <td>3.448070e+05</td>\n",
       "      <td>4.078516e+04</td>\n",
       "      <td>False</td>\n",
       "      <td>S1584</td>\n",
       "    </tr>\n",
       "    <tr>\n",
       "      <th>4</th>\n",
       "      <td>871.003682</td>\n",
       "      <td>23.375593</td>\n",
       "      <td>34.049421</td>\n",
       "      <td>78.169622</td>\n",
       "      <td>-32.161957</td>\n",
       "      <td>33.441138</td>\n",
       "      <td>-22.452386</td>\n",
       "      <td>-0.434103</td>\n",
       "      <td>-7.737100</td>\n",
       "      <td>-14.759690</td>\n",
       "      <td>...</td>\n",
       "      <td>2.556171e+06</td>\n",
       "      <td>5.214682e+06</td>\n",
       "      <td>4.661295e+06</td>\n",
       "      <td>4.800653e+06</td>\n",
       "      <td>3.409863e+06</td>\n",
       "      <td>3.904216e+06</td>\n",
       "      <td>3.966455e+06</td>\n",
       "      <td>1.623132e+06</td>\n",
       "      <td>False</td>\n",
       "      <td>S1584</td>\n",
       "    </tr>\n",
       "  </tbody>\n",
       "</table>\n",
       "<p>5 rows × 150 columns</p>\n",
       "</div>"
      ],
      "text/plain": [
       "           V0         V1         V2         V3         V4         V5  \\\n",
       "0  722.448268  36.338742  22.475443  18.080093 -11.599281  33.092202   \n",
       "1  778.187301  -8.663263  31.407063  33.577230  -7.340256  33.056543   \n",
       "2  849.900808  -3.912614  13.740675  51.180949  -0.269440  38.814082   \n",
       "3  831.572348  26.399493 -17.299518  63.644995  -0.932313  32.298724   \n",
       "4  871.003682  23.375593  34.049421  78.169622 -32.161957  33.441138   \n",
       "\n",
       "          V6         V7         V8         V9  ...            V140  \\\n",
       "0  -4.693004  12.987532   5.610922   0.324443  ...    5.430425e+05   \n",
       "1 -14.590332  18.488656  -9.602763   1.987624  ...    3.631684e+06   \n",
       "2 -18.498157  19.804303 -18.298947  -6.939618  ...    4.227182e+06   \n",
       "3  -8.193442  11.379886 -10.025327 -12.250456  ...    1.165055e+06   \n",
       "4 -22.452386  -0.434103  -7.737100 -14.759690  ...    2.556171e+06   \n",
       "\n",
       "           V141          V142          V143          V144          V145  \\\n",
       "0  4.701793e+05  4.629036e+05  6.163514e+05  4.624041e+05  4.929520e+05   \n",
       "1  6.943901e+06  6.971661e+06  5.686632e+06  1.820535e+06  2.380319e+06   \n",
       "2  7.169921e+06  6.772366e+06  5.081521e+06  1.423465e+06  1.765337e+06   \n",
       "3  9.328189e+05  1.408208e+06  1.019245e+06  6.339184e+05  5.522364e+05   \n",
       "4  5.214682e+06  4.661295e+06  4.800653e+06  3.409863e+06  3.904216e+06   \n",
       "\n",
       "           V146          V147  IS_LAUGHTER  SNAME  \n",
       "0  2.498697e+05  2.618041e+04        False  S1584  \n",
       "1  3.478466e+06  1.565918e+05        False  S1584  \n",
       "2  2.937778e+06  1.050464e+05        False  S1584  \n",
       "3  3.448070e+05  4.078516e+04        False  S1584  \n",
       "4  3.966455e+06  1.623132e+06        False  S1584  \n",
       "\n",
       "[5 rows x 150 columns]"
      ]
     },
     "execution_count": 48,
     "metadata": {},
     "output_type": "execute_result"
    }
   ],
   "source": [
    "noisy.head()"
   ]
  },
  {
   "cell_type": "code",
   "execution_count": 10,
   "metadata": {},
   "outputs": [
    {
     "data": {
      "text/html": [
       "<div>\n",
       "<style scoped>\n",
       "    .dataframe tbody tr th:only-of-type {\n",
       "        vertical-align: middle;\n",
       "    }\n",
       "\n",
       "    .dataframe tbody tr th {\n",
       "        vertical-align: top;\n",
       "    }\n",
       "\n",
       "    .dataframe thead th {\n",
       "        text-align: right;\n",
       "    }\n",
       "</style>\n",
       "<table border=\"1\" class=\"dataframe\">\n",
       "  <thead>\n",
       "    <tr style=\"text-align: right;\">\n",
       "      <th></th>\n",
       "      <th>V0</th>\n",
       "      <th>V1</th>\n",
       "      <th>V2</th>\n",
       "      <th>V3</th>\n",
       "      <th>V4</th>\n",
       "      <th>V5</th>\n",
       "      <th>V6</th>\n",
       "      <th>V7</th>\n",
       "      <th>V8</th>\n",
       "      <th>V9</th>\n",
       "      <th>...</th>\n",
       "      <th>V140</th>\n",
       "      <th>V141</th>\n",
       "      <th>V142</th>\n",
       "      <th>V143</th>\n",
       "      <th>V144</th>\n",
       "      <th>V145</th>\n",
       "      <th>V146</th>\n",
       "      <th>V147</th>\n",
       "      <th>IS_LAUGHTER</th>\n",
       "      <th>SNAME</th>\n",
       "    </tr>\n",
       "  </thead>\n",
       "  <tbody>\n",
       "    <tr>\n",
       "      <th>0</th>\n",
       "      <td>722.448268</td>\n",
       "      <td>36.338742</td>\n",
       "      <td>22.475443</td>\n",
       "      <td>18.080093</td>\n",
       "      <td>-11.599281</td>\n",
       "      <td>33.092202</td>\n",
       "      <td>-4.693004</td>\n",
       "      <td>12.987532</td>\n",
       "      <td>5.610922</td>\n",
       "      <td>0.324443</td>\n",
       "      <td>...</td>\n",
       "      <td>5.430425e+05</td>\n",
       "      <td>4.701793e+05</td>\n",
       "      <td>4.629036e+05</td>\n",
       "      <td>6.163514e+05</td>\n",
       "      <td>4.624041e+05</td>\n",
       "      <td>4.929520e+05</td>\n",
       "      <td>2.498697e+05</td>\n",
       "      <td>2.618041e+04</td>\n",
       "      <td>False</td>\n",
       "      <td>S1584</td>\n",
       "    </tr>\n",
       "    <tr>\n",
       "      <th>1</th>\n",
       "      <td>778.187301</td>\n",
       "      <td>-8.663263</td>\n",
       "      <td>31.407063</td>\n",
       "      <td>33.577230</td>\n",
       "      <td>-7.340256</td>\n",
       "      <td>33.056543</td>\n",
       "      <td>-14.590332</td>\n",
       "      <td>18.488656</td>\n",
       "      <td>-9.602763</td>\n",
       "      <td>1.987624</td>\n",
       "      <td>...</td>\n",
       "      <td>3.631684e+06</td>\n",
       "      <td>6.943901e+06</td>\n",
       "      <td>6.971661e+06</td>\n",
       "      <td>5.686632e+06</td>\n",
       "      <td>1.820535e+06</td>\n",
       "      <td>2.380319e+06</td>\n",
       "      <td>3.478466e+06</td>\n",
       "      <td>1.565918e+05</td>\n",
       "      <td>False</td>\n",
       "      <td>S1584</td>\n",
       "    </tr>\n",
       "    <tr>\n",
       "      <th>2</th>\n",
       "      <td>849.900808</td>\n",
       "      <td>-3.912614</td>\n",
       "      <td>13.740675</td>\n",
       "      <td>51.180949</td>\n",
       "      <td>-0.269440</td>\n",
       "      <td>38.814082</td>\n",
       "      <td>-18.498157</td>\n",
       "      <td>19.804303</td>\n",
       "      <td>-18.298947</td>\n",
       "      <td>-6.939618</td>\n",
       "      <td>...</td>\n",
       "      <td>4.227182e+06</td>\n",
       "      <td>7.169921e+06</td>\n",
       "      <td>6.772366e+06</td>\n",
       "      <td>5.081521e+06</td>\n",
       "      <td>1.423465e+06</td>\n",
       "      <td>1.765337e+06</td>\n",
       "      <td>2.937778e+06</td>\n",
       "      <td>1.050464e+05</td>\n",
       "      <td>False</td>\n",
       "      <td>S1584</td>\n",
       "    </tr>\n",
       "    <tr>\n",
       "      <th>3</th>\n",
       "      <td>831.572348</td>\n",
       "      <td>26.399493</td>\n",
       "      <td>-17.299518</td>\n",
       "      <td>63.644995</td>\n",
       "      <td>-0.932313</td>\n",
       "      <td>32.298724</td>\n",
       "      <td>-8.193442</td>\n",
       "      <td>11.379886</td>\n",
       "      <td>-10.025327</td>\n",
       "      <td>-12.250456</td>\n",
       "      <td>...</td>\n",
       "      <td>1.165055e+06</td>\n",
       "      <td>9.328189e+05</td>\n",
       "      <td>1.408208e+06</td>\n",
       "      <td>1.019245e+06</td>\n",
       "      <td>6.339184e+05</td>\n",
       "      <td>5.522364e+05</td>\n",
       "      <td>3.448070e+05</td>\n",
       "      <td>4.078516e+04</td>\n",
       "      <td>False</td>\n",
       "      <td>S1584</td>\n",
       "    </tr>\n",
       "    <tr>\n",
       "      <th>4</th>\n",
       "      <td>871.003682</td>\n",
       "      <td>23.375593</td>\n",
       "      <td>34.049421</td>\n",
       "      <td>78.169622</td>\n",
       "      <td>-32.161957</td>\n",
       "      <td>33.441138</td>\n",
       "      <td>-22.452386</td>\n",
       "      <td>-0.434103</td>\n",
       "      <td>-7.737100</td>\n",
       "      <td>-14.759690</td>\n",
       "      <td>...</td>\n",
       "      <td>2.556171e+06</td>\n",
       "      <td>5.214682e+06</td>\n",
       "      <td>4.661295e+06</td>\n",
       "      <td>4.800653e+06</td>\n",
       "      <td>3.409863e+06</td>\n",
       "      <td>3.904216e+06</td>\n",
       "      <td>3.966455e+06</td>\n",
       "      <td>1.623132e+06</td>\n",
       "      <td>False</td>\n",
       "      <td>S1584</td>\n",
       "    </tr>\n",
       "  </tbody>\n",
       "</table>\n",
       "<p>5 rows × 150 columns</p>\n",
       "</div>"
      ],
      "text/plain": [
       "           V0         V1         V2         V3         V4         V5  \\\n",
       "0  722.448268  36.338742  22.475443  18.080093 -11.599281  33.092202   \n",
       "1  778.187301  -8.663263  31.407063  33.577230  -7.340256  33.056543   \n",
       "2  849.900808  -3.912614  13.740675  51.180949  -0.269440  38.814082   \n",
       "3  831.572348  26.399493 -17.299518  63.644995  -0.932313  32.298724   \n",
       "4  871.003682  23.375593  34.049421  78.169622 -32.161957  33.441138   \n",
       "\n",
       "          V6         V7         V8         V9  ...            V140  \\\n",
       "0  -4.693004  12.987532   5.610922   0.324443  ...    5.430425e+05   \n",
       "1 -14.590332  18.488656  -9.602763   1.987624  ...    3.631684e+06   \n",
       "2 -18.498157  19.804303 -18.298947  -6.939618  ...    4.227182e+06   \n",
       "3  -8.193442  11.379886 -10.025327 -12.250456  ...    1.165055e+06   \n",
       "4 -22.452386  -0.434103  -7.737100 -14.759690  ...    2.556171e+06   \n",
       "\n",
       "           V141          V142          V143          V144          V145  \\\n",
       "0  4.701793e+05  4.629036e+05  6.163514e+05  4.624041e+05  4.929520e+05   \n",
       "1  6.943901e+06  6.971661e+06  5.686632e+06  1.820535e+06  2.380319e+06   \n",
       "2  7.169921e+06  6.772366e+06  5.081521e+06  1.423465e+06  1.765337e+06   \n",
       "3  9.328189e+05  1.408208e+06  1.019245e+06  6.339184e+05  5.522364e+05   \n",
       "4  5.214682e+06  4.661295e+06  4.800653e+06  3.409863e+06  3.904216e+06   \n",
       "\n",
       "           V146          V147  IS_LAUGHTER  SNAME  \n",
       "0  2.498697e+05  2.618041e+04        False  S1584  \n",
       "1  3.478466e+06  1.565918e+05        False  S1584  \n",
       "2  2.937778e+06  1.050464e+05        False  S1584  \n",
       "3  3.448070e+05  4.078516e+04        False  S1584  \n",
       "4  3.966455e+06  1.623132e+06        False  S1584  \n",
       "\n",
       "[5 rows x 150 columns]"
      ]
     },
     "execution_count": 10,
     "metadata": {},
     "output_type": "execute_result"
    }
   ],
   "source": [
    "data.head()"
   ]
  },
  {
   "cell_type": "markdown",
   "metadata": {},
   "source": [
    "Let's see distribution of laugh frames number for files."
   ]
  },
  {
   "cell_type": "code",
   "execution_count": 15,
   "metadata": {},
   "outputs": [
    {
     "data": {
      "text/plain": [
       "array([[<matplotlib.axes._subplots.AxesSubplot object at 0x10d203510>]],\n",
       "      dtype=object)"
      ]
     },
     "execution_count": 15,
     "metadata": {},
     "output_type": "execute_result"
    },
    {
     "data": {
      "image/png": "[encoded data removed]",
      "text/plain": [
       "<matplotlib.figure.Figure at 0x1211eb9d0>"
      ]
     },
     "metadata": {},
     "output_type": "display_data"
    }
   ],
   "source": [
    "pivoted = data.pivot_table(index='SNAME', values='IS_LAUGHTER', aggfunc=np.sum)\n",
    "pivoted.hist()"
   ]
  },
  {
   "cell_type": "code",
   "execution_count": 16,
   "metadata": {},
   "outputs": [
    {
     "data": {
      "text/html": [
       "<div>\n",
       "<style scoped>\n",
       "    .dataframe tbody tr th:only-of-type {\n",
       "        vertical-align: middle;\n",
       "    }\n",
       "\n",
       "    .dataframe tbody tr th {\n",
       "        vertical-align: top;\n",
       "    }\n",
       "\n",
       "    .dataframe thead th {\n",
       "        text-align: right;\n",
       "    }\n",
       "</style>\n",
       "<table border=\"1\" class=\"dataframe\">\n",
       "  <thead>\n",
       "    <tr style=\"text-align: right;\">\n",
       "      <th></th>\n",
       "      <th>IS_LAUGHTER</th>\n",
       "    </tr>\n",
       "    <tr>\n",
       "      <th>SNAME</th>\n",
       "      <th></th>\n",
       "    </tr>\n",
       "  </thead>\n",
       "  <tbody>\n",
       "    <tr>\n",
       "      <th>S0001</th>\n",
       "      <td>0.0</td>\n",
       "    </tr>\n",
       "    <tr>\n",
       "      <th>S0002</th>\n",
       "      <td>23.0</td>\n",
       "    </tr>\n",
       "  </tbody>\n",
       "</table>\n",
       "</div>"
      ],
      "text/plain": [
       "       IS_LAUGHTER\n",
       "SNAME             \n",
       "S0001          0.0\n",
       "S0002         23.0"
      ]
     },
     "execution_count": 16,
     "metadata": {},
     "output_type": "execute_result"
    }
   ],
   "source": [
    "pivoted.head(2)"
   ]
  },
  {
   "cell_type": "markdown",
   "metadata": {},
   "source": [
    "Dividing dataset into `train` and `test` subsets saving the distribution."
   ]
  },
  {
   "cell_type": "code",
   "execution_count": 17,
   "metadata": {},
   "outputs": [
    {
     "data": {
      "text/plain": [
       "array([[<matplotlib.axes._subplots.AxesSubplot object at 0x111e59fd0>]],\n",
       "      dtype=object)"
      ]
     },
     "execution_count": 17,
     "metadata": {},
     "output_type": "execute_result"
    },
    {
     "data": {
      "image/png": "[encoded data removed]",
      "text/plain": [
       "<matplotlib.figure.Figure at 0x10d255350>"
      ]
     },
     "metadata": {},
     "output_type": "display_data"
    },
    {
     "data": {
      "image/png": "[encoded data removed]",
      "text/plain": [
       "<matplotlib.figure.Figure at 0x10d1a87d0>"
      ]
     },
     "metadata": {},
     "output_type": "display_data"
    }
   ],
   "source": [
    "X = pivoted['IS_LAUGHTER'].index\n",
    "y = pivoted['IS_LAUGHTER'].values // 21\n",
    "\n",
    "sss = StratifiedShuffleSplit(n_splits=1, test_size=0.2, random_state=0)\n",
    "for train_index, test_index in sss.split(X, y):\n",
    "    X_train, X_test = X[train_index], X[test_index]\n",
    "    \n",
    "test = data[data['SNAME'].isin(X_test)]\n",
    "train = data[data['SNAME'].isin(X_train)]\n",
    "\n",
    "test.pivot_table(index='SNAME', values='IS_LAUGHTER', aggfunc=np.sum).hist()\n",
    "train.pivot_table(index='SNAME', values='IS_LAUGHTER', aggfunc=np.sum).hist()"
   ]
  },
  {
   "cell_type": "code",
   "execution_count": 19,
   "metadata": {},
   "outputs": [],
   "source": [
    "noisy_test = noisy[noisy['SNAME'].isin(X_test)]\n",
    "noisy_train = noisy[noisy['SNAME'].isin(X_train)]"
   ]
  },
  {
   "cell_type": "code",
   "execution_count": 20,
   "metadata": {},
   "outputs": [],
   "source": [
    "train = np.array(train.drop(columns='SNAME')).astype(float)\n",
    "test = np.array(test.drop(columns='SNAME')).astype(float)"
   ]
  },
  {
   "cell_type": "code",
   "execution_count": 21,
   "metadata": {},
   "outputs": [],
   "source": [
    "noisy_train = np.array(noisy_train.drop(columns='SNAME')).astype(float)\n",
    "noisy_test = np.array(noisy_test.drop(columns='SNAME')).astype(float)"
   ]
  },
  {
   "cell_type": "code",
   "execution_count": 23,
   "metadata": {},
   "outputs": [],
   "source": [
    "del data\n",
    "del noisy"
   ]
  },
  {
   "cell_type": "code",
   "execution_count": 24,
   "metadata": {},
   "outputs": [],
   "source": [
    "X_train, y_train = train[:, :-1].reshape(len(train) // frames_num, frames_num, vector_len), train[:, -1]\n",
    "X_test, y_test = test[:, :-1].reshape(len(test) // frames_num, frames_num, vector_len), test[:, -1]"
   ]
  },
  {
   "cell_type": "code",
   "execution_count": 25,
   "metadata": {},
   "outputs": [],
   "source": [
    "noisy_X_train = noisy_train[:, :-1].reshape(len(noisy_train) // frames_num, frames_num, vector_len)\n",
    "noisy_y_train = noisy_train[:, -1]\n",
    "\n",
    "noisy_X_test = noisy_test[:, :-1].reshape(len(noisy_test) // frames_num, frames_num, vector_len)\n",
    "noisy_y_test = noisy_test[:, -1]"
   ]
  },
  {
   "cell_type": "code",
   "execution_count": 26,
   "metadata": {},
   "outputs": [],
   "source": [
    "del train\n",
    "del test\n",
    "del noisy_train\n",
    "del noisy_test"
   ]
  },
  {
   "cell_type": "markdown",
   "metadata": {},
   "source": [
    "X shape:\n",
    "* `number of .wav files`\n",
    "* `number of frames in each file`\n",
    "* `number of features describing each frame`"
   ]
  },
  {
   "cell_type": "code",
   "execution_count": 27,
   "metadata": {},
   "outputs": [
    {
     "data": {
      "text/plain": [
       "(547, 218, 148)"
      ]
     },
     "execution_count": 27,
     "metadata": {},
     "output_type": "execute_result"
    }
   ],
   "source": [
    "X_test.shape"
   ]
  },
  {
   "cell_type": "code",
   "execution_count": 29,
   "metadata": {},
   "outputs": [],
   "source": [
    "y_train = keras.utils.to_categorical(y_train, NUM_CLASSES).reshape(-1, frames_num, NUM_CLASSES)\n",
    "y_test = keras.utils.to_categorical(y_test, NUM_CLASSES).reshape(-1, frames_num, NUM_CLASSES)\n",
    "\n",
    "noisy_y_train = keras.utils.to_categorical(noisy_y_train, NUM_CLASSES).reshape(-1, frames_num, NUM_CLASSES)\n",
    "noisy_y_test = keras.utils.to_categorical(noisy_y_test, NUM_CLASSES).reshape(-1, frames_num, NUM_CLASSES)"
   ]
  },
  {
   "cell_type": "markdown",
   "metadata": {},
   "source": [
    "y shape:\n",
    "* `number of .wav files`\n",
    "* `number of frames in each file`\n",
    "* `one-hot encoding for two classes`"
   ]
  },
  {
   "cell_type": "code",
   "execution_count": 30,
   "metadata": {},
   "outputs": [
    {
     "data": {
      "text/plain": [
       "(547, 218, 2)"
      ]
     },
     "execution_count": 30,
     "metadata": {},
     "output_type": "execute_result"
    }
   ],
   "source": [
    "y_test.shape"
   ]
  },
  {
   "cell_type": "code",
   "execution_count": 31,
   "metadata": {},
   "outputs": [],
   "source": [
    "mfcc_input = Input(shape=(frames_num, mfcc_len))\n",
    "fbank_input = Input(shape=(frames_num, fbank_len))\n",
    "\n",
    "mfcc_lstm = LSTM(100, return_sequences=True)(mfcc_input)\n",
    "fbank_lstm = LSTM(100, return_sequences=True)(fbank_input)\n",
    "\n",
    "mfcc_output = Dense(NUM_CLASSES, activation='softmax')(mfcc_lstm)\n",
    "\n",
    "x = keras.layers.concatenate([mfcc_lstm, fbank_lstm])\n",
    "main_output = Dense(NUM_CLASSES, activation='softmax')(x)\n",
    "\n",
    "model = Model(inputs=[mfcc_input, fbank_input], outputs=[main_output, mfcc_output])\n",
    "\n",
    "model.compile(optimizer='rmsprop', loss='categorical_crossentropy',metrics=['accuracy'])"
   ]
  },
  {
   "cell_type": "code",
   "execution_count": 33,
   "metadata": {},
   "outputs": [],
   "source": [
    "noisy_model = Model(inputs=[mfcc_input, fbank_input], outputs=[main_output, mfcc_output])\n",
    "\n",
    "noisy_model.compile(optimizer='rmsprop', loss='categorical_crossentropy',metrics=['accuracy'])"
   ]
  },
  {
   "cell_type": "code",
   "execution_count": 32,
   "metadata": {},
   "outputs": [
    {
     "name": "stdout",
     "output_type": "stream",
     "text": [
      "Epoch 1/10\n",
      "2188/2188 [==============================] - 119s 55ms/step - loss: 0.3378 - dense_2_loss: 0.1872 - dense_1_loss: 0.1506 - dense_2_acc: 0.9453 - dense_1_acc: 0.9636\n",
      "Epoch 2/10\n",
      "2188/2188 [==============================] - 68s 31ms/step - loss: 0.2683 - dense_2_loss: 0.1331 - dense_1_loss: 0.1352 - dense_2_acc: 0.9643 - dense_1_acc: 0.9643\n",
      "Epoch 3/10\n",
      "2188/2188 [==============================] - 63s 29ms/step - loss: 0.2599 - dense_2_loss: 0.1285 - dense_1_loss: 0.1315 - dense_2_acc: 0.9643 - dense_1_acc: 0.9643\n",
      "Epoch 4/10\n",
      "2188/2188 [==============================] - 68s 31ms/step - loss: 0.2576 - dense_2_loss: 0.1269 - dense_1_loss: 0.1307 - dense_2_acc: 0.9643 - dense_1_acc: 0.9643\n",
      "Epoch 5/10\n",
      "2188/2188 [==============================] - 71s 33ms/step - loss: 0.2568 - dense_2_loss: 0.1263 - dense_1_loss: 0.1305 - dense_2_acc: 0.9643 - dense_1_acc: 0.9643\n",
      "Epoch 6/10\n",
      "2188/2188 [==============================] - 67s 30ms/step - loss: 0.2560 - dense_2_loss: 0.1257 - dense_1_loss: 0.1303 - dense_2_acc: 0.9643 - dense_1_acc: 0.9643\n",
      "Epoch 7/10\n",
      "2188/2188 [==============================] - 70s 32ms/step - loss: 0.2538 - dense_2_loss: 0.1248 - dense_1_loss: 0.1290 - dense_2_acc: 0.9643 - dense_1_acc: 0.9643\n",
      "Epoch 8/10\n",
      "2188/2188 [==============================] - 90s 41ms/step - loss: 0.2518 - dense_2_loss: 0.1239 - dense_1_loss: 0.1279 - dense_2_acc: 0.9644 - dense_1_acc: 0.9643\n",
      "Epoch 9/10\n",
      "2188/2188 [==============================] - 63s 29ms/step - loss: 0.2504 - dense_2_loss: 0.1233 - dense_1_loss: 0.1270 - dense_2_acc: 0.9644 - dense_1_acc: 0.9643\n",
      "Epoch 10/10\n",
      "2188/2188 [==============================] - 70s 32ms/step - loss: 0.2495 - dense_2_loss: 0.1229 - dense_1_loss: 0.1266 - dense_2_acc: 0.9645 - dense_1_acc: 0.9643\n"
     ]
    },
    {
     "data": {
      "text/plain": [
       "<keras.callbacks.History at 0x10d260e10>"
      ]
     },
     "execution_count": 32,
     "metadata": {},
     "output_type": "execute_result"
    }
   ],
   "source": [
    "model.fit([X_train[:,:,:mfcc_len], X_train[:,:,mfcc_len:]], [y_train, y_train], epochs=10, batch_size=10)"
   ]
  },
  {
   "cell_type": "code",
   "execution_count": 34,
   "metadata": {},
   "outputs": [
    {
     "name": "stdout",
     "output_type": "stream",
     "text": [
      "Epoch 1/10\n",
      "2188/2188 [==============================] - 103s 47ms/step - loss: 0.2476 - dense_2_loss: 0.1221 - dense_1_loss: 0.1255 - dense_2_acc: 0.9645 - dense_1_acc: 0.9643\n",
      "Epoch 2/10\n",
      "2188/2188 [==============================] - 67s 31ms/step - loss: 0.2449 - dense_2_loss: 0.1208 - dense_1_loss: 0.1241 - dense_2_acc: 0.9646 - dense_1_acc: 0.9643\n",
      "Epoch 3/10\n",
      "2188/2188 [==============================] - 70s 32ms/step - loss: 0.2454 - dense_2_loss: 0.1210 - dense_1_loss: 0.1243 - dense_2_acc: 0.9645 - dense_1_acc: 0.9643\n",
      "Epoch 4/10\n",
      "2188/2188 [==============================] - 87s 40ms/step - loss: 0.2436 - dense_2_loss: 0.1201 - dense_1_loss: 0.1234 - dense_2_acc: 0.9647 - dense_1_acc: 0.9643\n",
      "Epoch 5/10\n",
      "2188/2188 [==============================] - 71s 33ms/step - loss: 0.2437 - dense_2_loss: 0.1202 - dense_1_loss: 0.1235 - dense_2_acc: 0.9646 - dense_1_acc: 0.9643\n",
      "Epoch 6/10\n",
      "2188/2188 [==============================] - 84s 38ms/step - loss: 0.2426 - dense_2_loss: 0.1196 - dense_1_loss: 0.1230 - dense_2_acc: 0.9646 - dense_1_acc: 0.9643\n",
      "Epoch 7/10\n",
      "2188/2188 [==============================] - 75s 34ms/step - loss: 0.2415 - dense_2_loss: 0.1191 - dense_1_loss: 0.1225 - dense_2_acc: 0.9647 - dense_1_acc: 0.9642\n",
      "Epoch 8/10\n",
      "2188/2188 [==============================] - 66s 30ms/step - loss: 0.2421 - dense_2_loss: 0.1194 - dense_1_loss: 0.1227 - dense_2_acc: 0.9648 - dense_1_acc: 0.9643\n",
      "Epoch 9/10\n",
      "2188/2188 [==============================] - 87s 40ms/step - loss: 0.2413 - dense_2_loss: 0.1190 - dense_1_loss: 0.1223 - dense_2_acc: 0.9649 - dense_1_acc: 0.9642\n",
      "Epoch 10/10\n",
      "2188/2188 [==============================] - 95s 43ms/step - loss: 0.2416 - dense_2_loss: 0.1192 - dense_1_loss: 0.1224 - dense_2_acc: 0.9648 - dense_1_acc: 0.9642\n"
     ]
    },
    {
     "data": {
      "text/plain": [
       "<keras.callbacks.History at 0x126000950>"
      ]
     },
     "execution_count": 34,
     "metadata": {},
     "output_type": "execute_result"
    }
   ],
   "source": [
    "noisy_model.fit([noisy_X_train[:,:,:mfcc_len], noisy_X_train[:,:,mfcc_len:]], [noisy_y_train, noisy_y_train],\n",
    "                epochs=10, batch_size=10)"
   ]
  },
  {
   "cell_type": "code",
   "execution_count": 36,
   "metadata": {},
   "outputs": [],
   "source": [
    "y_pred, _ = model.predict([X_test[:,:,:mfcc_len], X_test[:,:,mfcc_len:]])\n",
    "noisy_y_pred, _ = noisy_model.predict([noisy_X_test[:,:,:mfcc_len], noisy_X_test[:,:,mfcc_len:]])"
   ]
  },
  {
   "cell_type": "code",
   "execution_count": 37,
   "metadata": {},
   "outputs": [
    {
     "data": {
      "text/plain": [
       "(547, 218, 2)"
      ]
     },
     "execution_count": 37,
     "metadata": {},
     "output_type": "execute_result"
    }
   ],
   "source": [
    "y_pred.shape"
   ]
  },
  {
   "cell_type": "code",
   "execution_count": 38,
   "metadata": {},
   "outputs": [
    {
     "data": {
      "text/plain": [
       "(547, 218, 2)"
      ]
     },
     "execution_count": 38,
     "metadata": {},
     "output_type": "execute_result"
    }
   ],
   "source": [
    "y_test.shape"
   ]
  },
  {
   "cell_type": "code",
   "execution_count": 39,
   "metadata": {},
   "outputs": [
    {
     "data": {
      "text/plain": [
       "0.9655418211093034"
      ]
     },
     "execution_count": 39,
     "metadata": {},
     "output_type": "execute_result"
    }
   ],
   "source": [
    "(y_test[:, :, 1] == (y_pred[:, :, 1] > 0.3)).sum() / (547. * 218) # accuracy"
   ]
  },
  {
   "cell_type": "code",
   "execution_count": 40,
   "metadata": {},
   "outputs": [
    {
     "data": {
      "text/plain": [
       "0.9655418211093034"
      ]
     },
     "execution_count": 40,
     "metadata": {},
     "output_type": "execute_result"
    }
   ],
   "source": [
    "(noisy_y_test[:, :, 1] == (noisy_y_pred[:, :, 1] > 0.3)).sum() / (547. * 218) # accuracy"
   ]
  },
  {
   "cell_type": "code",
   "execution_count": 49,
   "metadata": {},
   "outputs": [
    {
     "data": {
      "image/png": "[encoded data removed]",
      "text/plain": [
       "<matplotlib.figure.Figure at 0x10d1bd790>"
      ]
     },
     "metadata": {},
     "output_type": "display_data"
    }
   ],
   "source": [
    "from sklearn.metrics import roc_curve, auc\n",
    "\n",
    "# Compute ROC curve and ROC area for each class\n",
    "fpr = dict()\n",
    "tpr = dict()\n",
    "roc_auc = dict()\n",
    "for i in range(NUM_CLASSES):\n",
    "    fpr[i], tpr[i], _ = roc_curve(y_test.reshape(-1, 2)[:, i], y_pred.reshape(-1, 2)[:, i])\n",
    "    roc_auc[i] = auc(fpr[i], tpr[i])\n",
    "    \n",
    "# Compute micro-average ROC curve and ROC area\n",
    "fpr[\"micro\"], tpr[\"micro\"], _ = roc_curve(y_test.ravel(), y_pred.ravel())\n",
    "roc_auc[\"micro\"] = auc(fpr[\"micro\"], tpr[\"micro\"])\n",
    "\n",
    "class_id = 1\n",
    "\n",
    "plt.figure()\n",
    "lw = 2\n",
    "plt.plot(fpr[class_id], tpr[class_id], color='darkorange',\n",
    "         lw=lw, label='ROC curve (area = %0.2f)' % roc_auc[class_id])\n",
    "plt.plot([0, 1], [0, 1], color='navy', lw=lw, linestyle='--')\n",
    "plt.xlim([0.0, 1.0])\n",
    "plt.ylim([0.0, 1.05])\n",
    "plt.xlabel('False Positive Rate')\n",
    "plt.ylabel('True Positive Rate')\n",
    "plt.title('Receiver operating characteristic')\n",
    "plt.legend(loc=\"lower right\")\n",
    "plt.show()"
   ]
  },
  {
   "cell_type": "markdown",
   "metadata": {},
   "source": [
    "Let's display a couple samples with true intervals and predicted probability."
   ]
  },
  {
   "cell_type": "code",
   "execution_count": 50,
   "metadata": {},
   "outputs": [],
   "source": [
    "ind_to_display = np.argsort(y_test[:, :, 1].sum(axis=1))[-3:]"
   ]
  },
  {
   "cell_type": "code",
   "execution_count": 51,
   "metadata": {},
   "outputs": [
    {
     "data": {
      "image/png": "[encoded data removed]",
      "text/plain": [
       "<matplotlib.figure.Figure at 0x127ab49d0>"
      ]
     },
     "metadata": {},
     "output_type": "display_data"
    }
   ],
   "source": [
    "fig = plt.figure(figsize=(18, 4))\n",
    "\n",
    "for i, ind in enumerate(ind_to_display):\n",
    "    ax = fig.add_subplot(1, 3, i+1)\n",
    "    ax.plot(np.arange(frames_num), y_test[ind][:, 1], label='true')\n",
    "    ax.plot(np.arange(frames_num), y_pred[ind][:, 1], label='pred')"
   ]
  },
  {
   "cell_type": "markdown",
   "metadata": {},
   "source": [
    "Saving model. It will be used in `laughter_prediction.predictors` to detect laughter segments. To run `laughter_prediction.predictors` run the following command:\n",
    "\n",
    "\n",
    "`python2 process_audio.py --wav_path=<wav_path>`\n",
    "\n",
    "\n",
    "For example:\n",
    "> `python2 process_audio.py --wav_path=\"../../data/vocalizationcorpus/data/S0025.wav\"`\n",
    "\n",
    "> \\>`Target intervals`\n",
    "\n",
    "> \\>`[(3.5, 3.75), (6.3, 6.4), (8.35, 8.45), (9.9, 10.2)]`\n"
   ]
  },
  {
   "cell_type": "code",
   "execution_count": 52,
   "metadata": {},
   "outputs": [],
   "source": [
    "model.save('../rnn-model.h5')"
   ]
  },
  {
   "cell_type": "markdown",
   "metadata": {},
   "source": [
    "Model description:"
   ]
  },
  {
   "cell_type": "code",
   "execution_count": 53,
   "metadata": {},
   "outputs": [
    {
     "name": "stdout",
     "output_type": "stream",
     "text": [
      "2188/2188 [==============================] - 26s 12ms/step\n"
     ]
    },
    {
     "data": {
      "text/plain": [
       "[0.23935661346428572,\n",
       " 0.11796502210540354,\n",
       " 0.1213915920944057,\n",
       " 0.9650155953123103,\n",
       " 0.9642440825973176]"
      ]
     },
     "execution_count": 53,
     "metadata": {},
     "output_type": "execute_result"
    }
   ],
   "source": [
    "model.evaluate([X_train[:,:,:mfcc_len], X_train[:,:,mfcc_len:]], [y_train, y_train])"
   ]
  },
  {
   "cell_type": "code",
   "execution_count": 54,
   "metadata": {},
   "outputs": [
    {
     "name": "stdout",
     "output_type": "stream",
     "text": [
      "547/547 [==============================] - 6s 11ms/step\n"
     ]
    },
    {
     "data": {
      "text/plain": [
       "[0.23802476663694086,\n",
       " 0.11787204882998353,\n",
       " 0.12015271562762844,\n",
       " 0.9658856493245531,\n",
       " 0.9649715691641436]"
      ]
     },
     "execution_count": 54,
     "metadata": {},
     "output_type": "execute_result"
    }
   ],
   "source": [
    "model.evaluate([X_test[:,:,:mfcc_len], X_test[:,:,mfcc_len:]], [y_test, y_test])"
   ]
  },
  {
   "cell_type": "code",
   "execution_count": 55,
   "metadata": {},
   "outputs": [
    {
     "name": "stdout",
     "output_type": "stream",
     "text": [
      "__________________________________________________________________________________________________\n",
      "Layer (type)                    Output Shape         Param #     Connected to                     \n",
      "==================================================================================================\n",
      "input_1 (InputLayer)            (None, 218, 20)      0                                            \n",
      "__________________________________________________________________________________________________\n",
      "input_2 (InputLayer)            (None, 218, 128)     0                                            \n",
      "__________________________________________________________________________________________________\n",
      "lstm_1 (LSTM)                   (None, 218, 100)     48400       input_1[0][0]                    \n",
      "__________________________________________________________________________________________________\n",
      "lstm_2 (LSTM)                   (None, 218, 100)     91600       input_2[0][0]                    \n",
      "__________________________________________________________________________________________________\n",
      "concatenate_1 (Concatenate)     (None, 218, 200)     0           lstm_1[0][0]                     \n",
      "                                                                 lstm_2[0][0]                     \n",
      "__________________________________________________________________________________________________\n",
      "dense_2 (Dense)                 (None, 218, 2)       402         concatenate_1[0][0]              \n",
      "__________________________________________________________________________________________________\n",
      "dense_1 (Dense)                 (None, 218, 2)       202         lstm_1[0][0]                     \n",
      "==================================================================================================\n",
      "Total params: 140,604\n",
      "Trainable params: 140,604\n",
      "Non-trainable params: 0\n",
      "__________________________________________________________________________________________________\n"
     ]
    }
   ],
   "source": [
    "model.summary()"
   ]
  },
  {
   "cell_type": "code",
   "execution_count": null,
   "metadata": {},
   "outputs": [],
   "source": []
  }
 ],
 "metadata": {
  "kernelspec": {
   "display_name": "Python 2",
   "language": "python",
   "name": "python2"
  },
  "language_info": {
   "codemirror_mode": {
    "name": "ipython",
    "version": 2
   },
   "file_extension": ".py",
   "mimetype": "text/x-python",
   "name": "python",
   "nbconvert_exporter": "python",
   "pygments_lexer": "ipython2",
   "version": "2.7.13"
  }
 },
 "nbformat": 4,
 "nbformat_minor": 2
}
