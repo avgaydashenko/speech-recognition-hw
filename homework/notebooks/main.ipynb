{
 "cells": [
  {
   "cell_type": "code",
   "execution_count": 2,
   "metadata": {},
   "outputs": [
    {
     "name": "stderr",
     "output_type": "stream",
     "text": [
      "Using TensorFlow backend.\n"
     ]
    }
   ],
   "source": [
    "import librosa\n",
    "import numpy as np\n",
    "import pandas as pd\n",
    "import h5py\n",
    "import scipy.io.wavfile as wav\n",
    "import matplotlib.pyplot as plt\n",
    "\n",
    "import keras\n",
    "from keras.models import Sequential\n",
    "from keras.layers import Dense, LSTM\n",
    "\n",
    "from sklearn.model_selection import StratifiedShuffleSplit\n",
    "\n",
    "import sys\n",
    "sys.path.append('..')\n",
    "\n",
    "%matplotlib inline\n",
    "\n",
    "from laughter_classification.sspnet_data_sampler import SSPNetDataSampler"
   ]
  },
  {
   "cell_type": "code",
   "execution_count": 10,
   "metadata": {},
   "outputs": [],
   "source": [
    "RATE = 16000 # samples in sec\n",
    "DUR = 11 # file duration in seconds\n",
    "LEN = RATE * DUR # samples in file (176000)\n",
    "FRAME_SEC = 0.5 # seconds in frame\n",
    "FRAME_SIZE = int(RATE * FRAME_SEC) # samples if frame (8000)\n",
    "FRAME_STEP = int(FRAME_SIZE / 5) # samples between successive frames (1600)\n",
    "NUM_CLASSES = 2 # laught or not"
   ]
  },
  {
   "cell_type": "markdown",
   "metadata": {},
   "source": [
    "* Added `LibrosaExtractor` in `laughter_prediction.feature_extractors` to extract MFCC and FBANK features using librosa, using it in `SSPNetDataSampler`.\n",
    "\n",
    "\n",
    "* Rewrote `SSPNetDataSampler` in `laughter_classification.sspnet_data_sampler` which creates dataset from vocalizationcorpus and returns DataFrame with overlapping frames described by features, label of class and filename."
   ]
  },
  {
   "cell_type": "code",
   "execution_count": 11,
   "metadata": {},
   "outputs": [],
   "source": [
    "# smplr = SSPNetDataSampler('../../data/vocalizationcorpus/')\n",
    "# data = smplr.create_sampled_df(FRAME_SEC)\n",
    "# data.to_csv('../../data/samples.csv', index=False)\n",
    "\n",
    "data = pd.read_csv('../../data/samples.csv')"
   ]
  },
  {
   "cell_type": "code",
   "execution_count": 12,
   "metadata": {},
   "outputs": [
    {
     "data": {
      "text/plain": [
       "(287175, 150)"
      ]
     },
     "execution_count": 12,
     "metadata": {},
     "output_type": "execute_result"
    }
   ],
   "source": [
    "data.shape"
   ]
  },
  {
   "cell_type": "code",
   "execution_count": 13,
   "metadata": {},
   "outputs": [],
   "source": [
    "frames_num = 105 # number of frames for each .wav file\n",
    "vector_len = 148 # number of features describing each frame"
   ]
  },
  {
   "cell_type": "code",
   "execution_count": 14,
   "metadata": {},
   "outputs": [
    {
     "data": {
      "text/html": [
       "<div>\n",
       "<style scoped>\n",
       "    .dataframe tbody tr th:only-of-type {\n",
       "        vertical-align: middle;\n",
       "    }\n",
       "\n",
       "    .dataframe tbody tr th {\n",
       "        vertical-align: top;\n",
       "    }\n",
       "\n",
       "    .dataframe thead th {\n",
       "        text-align: right;\n",
       "    }\n",
       "</style>\n",
       "<table border=\"1\" class=\"dataframe\">\n",
       "  <thead>\n",
       "    <tr style=\"text-align: right;\">\n",
       "      <th></th>\n",
       "      <th>V0</th>\n",
       "      <th>V1</th>\n",
       "      <th>V2</th>\n",
       "      <th>V3</th>\n",
       "      <th>V4</th>\n",
       "      <th>V5</th>\n",
       "      <th>V6</th>\n",
       "      <th>V7</th>\n",
       "      <th>V8</th>\n",
       "      <th>V9</th>\n",
       "      <th>...</th>\n",
       "      <th>V140</th>\n",
       "      <th>V141</th>\n",
       "      <th>V142</th>\n",
       "      <th>V143</th>\n",
       "      <th>V144</th>\n",
       "      <th>V145</th>\n",
       "      <th>V146</th>\n",
       "      <th>V147</th>\n",
       "      <th>IS_LAUGHTER</th>\n",
       "      <th>SNAME</th>\n",
       "    </tr>\n",
       "  </thead>\n",
       "  <tbody>\n",
       "    <tr>\n",
       "      <th>0</th>\n",
       "      <td>903.469993</td>\n",
       "      <td>22.110552</td>\n",
       "      <td>13.151943</td>\n",
       "      <td>46.213083</td>\n",
       "      <td>-17.533179</td>\n",
       "      <td>23.288871</td>\n",
       "      <td>-17.945700</td>\n",
       "      <td>4.478985</td>\n",
       "      <td>-16.021022</td>\n",
       "      <td>-8.827005</td>\n",
       "      <td>...</td>\n",
       "      <td>8.985123e+07</td>\n",
       "      <td>4.989764e+07</td>\n",
       "      <td>4.625960e+07</td>\n",
       "      <td>3.625273e+07</td>\n",
       "      <td>5.107908e+07</td>\n",
       "      <td>7.357580e+07</td>\n",
       "      <td>6.407850e+07</td>\n",
       "      <td>7.800024e+06</td>\n",
       "      <td>False</td>\n",
       "      <td>S1584</td>\n",
       "    </tr>\n",
       "    <tr>\n",
       "      <th>1</th>\n",
       "      <td>984.319736</td>\n",
       "      <td>21.231838</td>\n",
       "      <td>2.953489</td>\n",
       "      <td>44.678074</td>\n",
       "      <td>-19.402026</td>\n",
       "      <td>14.163532</td>\n",
       "      <td>-21.600310</td>\n",
       "      <td>0.101438</td>\n",
       "      <td>-18.760751</td>\n",
       "      <td>-7.042315</td>\n",
       "      <td>...</td>\n",
       "      <td>2.104042e+08</td>\n",
       "      <td>2.243163e+08</td>\n",
       "      <td>3.022200e+08</td>\n",
       "      <td>2.158124e+08</td>\n",
       "      <td>1.993383e+08</td>\n",
       "      <td>1.572147e+08</td>\n",
       "      <td>1.265192e+08</td>\n",
       "      <td>2.348908e+07</td>\n",
       "      <td>False</td>\n",
       "      <td>S1584</td>\n",
       "    </tr>\n",
       "    <tr>\n",
       "      <th>2</th>\n",
       "      <td>1022.190698</td>\n",
       "      <td>33.532349</td>\n",
       "      <td>-3.279695</td>\n",
       "      <td>38.394860</td>\n",
       "      <td>-25.989993</td>\n",
       "      <td>9.349846</td>\n",
       "      <td>-21.051692</td>\n",
       "      <td>-6.710757</td>\n",
       "      <td>-19.321560</td>\n",
       "      <td>-5.070256</td>\n",
       "      <td>...</td>\n",
       "      <td>2.286517e+08</td>\n",
       "      <td>2.385465e+08</td>\n",
       "      <td>3.099776e+08</td>\n",
       "      <td>2.240567e+08</td>\n",
       "      <td>2.065902e+08</td>\n",
       "      <td>1.629597e+08</td>\n",
       "      <td>1.324797e+08</td>\n",
       "      <td>2.509720e+07</td>\n",
       "      <td>False</td>\n",
       "      <td>S1584</td>\n",
       "    </tr>\n",
       "    <tr>\n",
       "      <th>3</th>\n",
       "      <td>1061.268787</td>\n",
       "      <td>30.639947</td>\n",
       "      <td>-4.961195</td>\n",
       "      <td>29.276434</td>\n",
       "      <td>-25.571131</td>\n",
       "      <td>8.788084</td>\n",
       "      <td>-21.397945</td>\n",
       "      <td>-6.496737</td>\n",
       "      <td>-16.397063</td>\n",
       "      <td>-1.047615</td>\n",
       "      <td>...</td>\n",
       "      <td>6.105167e+08</td>\n",
       "      <td>4.207161e+08</td>\n",
       "      <td>3.784505e+08</td>\n",
       "      <td>3.184893e+08</td>\n",
       "      <td>2.554543e+08</td>\n",
       "      <td>1.928747e+08</td>\n",
       "      <td>1.593636e+08</td>\n",
       "      <td>3.782155e+07</td>\n",
       "      <td>False</td>\n",
       "      <td>S1584</td>\n",
       "    </tr>\n",
       "    <tr>\n",
       "      <th>4</th>\n",
       "      <td>1074.259395</td>\n",
       "      <td>33.744219</td>\n",
       "      <td>-11.850305</td>\n",
       "      <td>20.757621</td>\n",
       "      <td>-25.812979</td>\n",
       "      <td>4.828652</td>\n",
       "      <td>-22.944275</td>\n",
       "      <td>-5.730192</td>\n",
       "      <td>-17.161470</td>\n",
       "      <td>1.973448</td>\n",
       "      <td>...</td>\n",
       "      <td>9.164058e+08</td>\n",
       "      <td>7.139229e+08</td>\n",
       "      <td>4.837591e+08</td>\n",
       "      <td>4.990330e+08</td>\n",
       "      <td>3.617077e+08</td>\n",
       "      <td>1.806479e+08</td>\n",
       "      <td>1.369564e+08</td>\n",
       "      <td>4.479941e+07</td>\n",
       "      <td>False</td>\n",
       "      <td>S1584</td>\n",
       "    </tr>\n",
       "  </tbody>\n",
       "</table>\n",
       "<p>5 rows × 150 columns</p>\n",
       "</div>"
      ],
      "text/plain": [
       "            V0         V1         V2         V3         V4         V5  \\\n",
       "0   903.469993  22.110552  13.151943  46.213083 -17.533179  23.288871   \n",
       "1   984.319736  21.231838   2.953489  44.678074 -19.402026  14.163532   \n",
       "2  1022.190698  33.532349  -3.279695  38.394860 -25.989993   9.349846   \n",
       "3  1061.268787  30.639947  -4.961195  29.276434 -25.571131   8.788084   \n",
       "4  1074.259395  33.744219 -11.850305  20.757621 -25.812979   4.828652   \n",
       "\n",
       "          V6        V7         V8        V9  ...            V140  \\\n",
       "0 -17.945700  4.478985 -16.021022 -8.827005  ...    8.985123e+07   \n",
       "1 -21.600310  0.101438 -18.760751 -7.042315  ...    2.104042e+08   \n",
       "2 -21.051692 -6.710757 -19.321560 -5.070256  ...    2.286517e+08   \n",
       "3 -21.397945 -6.496737 -16.397063 -1.047615  ...    6.105167e+08   \n",
       "4 -22.944275 -5.730192 -17.161470  1.973448  ...    9.164058e+08   \n",
       "\n",
       "           V141          V142          V143          V144          V145  \\\n",
       "0  4.989764e+07  4.625960e+07  3.625273e+07  5.107908e+07  7.357580e+07   \n",
       "1  2.243163e+08  3.022200e+08  2.158124e+08  1.993383e+08  1.572147e+08   \n",
       "2  2.385465e+08  3.099776e+08  2.240567e+08  2.065902e+08  1.629597e+08   \n",
       "3  4.207161e+08  3.784505e+08  3.184893e+08  2.554543e+08  1.928747e+08   \n",
       "4  7.139229e+08  4.837591e+08  4.990330e+08  3.617077e+08  1.806479e+08   \n",
       "\n",
       "           V146          V147  IS_LAUGHTER  SNAME  \n",
       "0  6.407850e+07  7.800024e+06        False  S1584  \n",
       "1  1.265192e+08  2.348908e+07        False  S1584  \n",
       "2  1.324797e+08  2.509720e+07        False  S1584  \n",
       "3  1.593636e+08  3.782155e+07        False  S1584  \n",
       "4  1.369564e+08  4.479941e+07        False  S1584  \n",
       "\n",
       "[5 rows x 150 columns]"
      ]
     },
     "execution_count": 14,
     "metadata": {},
     "output_type": "execute_result"
    }
   ],
   "source": [
    "data.head()"
   ]
  },
  {
   "cell_type": "markdown",
   "metadata": {},
   "source": [
    "Let's see distribution of laugh frames number for files."
   ]
  },
  {
   "cell_type": "code",
   "execution_count": 15,
   "metadata": {},
   "outputs": [
    {
     "data": {
      "text/plain": [
       "array([[<matplotlib.axes._subplots.AxesSubplot object at 0x11c7b1e50>]],\n",
       "      dtype=object)"
      ]
     },
     "execution_count": 15,
     "metadata": {},
     "output_type": "execute_result"
    },
    {
     "data": {
      "image/png": "[encoded data removed]",
      "text/plain": [
       "<matplotlib.figure.Figure at 0x11b31d150>"
      ]
     },
     "metadata": {},
     "output_type": "display_data"
    }
   ],
   "source": [
    "pivoted = data.pivot_table(index='SNAME', values='IS_LAUGHTER', aggfunc=np.sum)\n",
    "pivoted.hist()"
   ]
  },
  {
   "cell_type": "code",
   "execution_count": 16,
   "metadata": {},
   "outputs": [
    {
     "data": {
      "text/html": [
       "<div>\n",
       "<style scoped>\n",
       "    .dataframe tbody tr th:only-of-type {\n",
       "        vertical-align: middle;\n",
       "    }\n",
       "\n",
       "    .dataframe tbody tr th {\n",
       "        vertical-align: top;\n",
       "    }\n",
       "\n",
       "    .dataframe thead th {\n",
       "        text-align: right;\n",
       "    }\n",
       "</style>\n",
       "<table border=\"1\" class=\"dataframe\">\n",
       "  <thead>\n",
       "    <tr style=\"text-align: right;\">\n",
       "      <th></th>\n",
       "      <th>IS_LAUGHTER</th>\n",
       "    </tr>\n",
       "    <tr>\n",
       "      <th>SNAME</th>\n",
       "      <th></th>\n",
       "    </tr>\n",
       "  </thead>\n",
       "  <tbody>\n",
       "    <tr>\n",
       "      <th>S0001</th>\n",
       "      <td>0.0</td>\n",
       "    </tr>\n",
       "    <tr>\n",
       "      <th>S0002</th>\n",
       "      <td>12.0</td>\n",
       "    </tr>\n",
       "  </tbody>\n",
       "</table>\n",
       "</div>"
      ],
      "text/plain": [
       "       IS_LAUGHTER\n",
       "SNAME             \n",
       "S0001          0.0\n",
       "S0002         12.0"
      ]
     },
     "execution_count": 16,
     "metadata": {},
     "output_type": "execute_result"
    }
   ],
   "source": [
    "pivoted.head(2)"
   ]
  },
  {
   "cell_type": "markdown",
   "metadata": {},
   "source": [
    "Dividing dataset into `train` and `test` subsets saving the distribution."
   ]
  },
  {
   "cell_type": "code",
   "execution_count": 17,
   "metadata": {},
   "outputs": [
    {
     "data": {
      "text/plain": [
       "array([[<matplotlib.axes._subplots.AxesSubplot object at 0x11d16d990>]],\n",
       "      dtype=object)"
      ]
     },
     "execution_count": 17,
     "metadata": {},
     "output_type": "execute_result"
    },
    {
     "data": {
      "image/png": "[encoded data removed]",
      "text/plain": [
       "<matplotlib.figure.Figure at 0x11a94be50>"
      ]
     },
     "metadata": {},
     "output_type": "display_data"
    },
    {
     "data": {
      "image/png": "[encoded data removed]",
      "text/plain": [
       "<matplotlib.figure.Figure at 0x11c92dd50>"
      ]
     },
     "metadata": {},
     "output_type": "display_data"
    }
   ],
   "source": [
    "X = pivoted['IS_LAUGHTER'].index\n",
    "y = pivoted['IS_LAUGHTER'].values // 21\n",
    "\n",
    "sss = StratifiedShuffleSplit(n_splits=1, test_size=0.2, random_state=0)\n",
    "for train_index, test_index in sss.split(X, y):\n",
    "    X_train, X_test = X[train_index], X[test_index]\n",
    "    \n",
    "test = data[data['SNAME'].isin(X_test)]\n",
    "train = data[data['SNAME'].isin(X_train)]\n",
    "\n",
    "test.pivot_table(index='SNAME', values='IS_LAUGHTER', aggfunc=np.sum).hist()\n",
    "train.pivot_table(index='SNAME', values='IS_LAUGHTER', aggfunc=np.sum).hist()"
   ]
  },
  {
   "cell_type": "code",
   "execution_count": 18,
   "metadata": {},
   "outputs": [],
   "source": [
    "train = np.array(train.drop(columns='SNAME')).astype(float)\n",
    "test = np.array(test.drop(columns='SNAME')).astype(float)"
   ]
  },
  {
   "cell_type": "code",
   "execution_count": 19,
   "metadata": {},
   "outputs": [],
   "source": [
    "X_train, y_train = train[:, :-1].reshape(len(train) // frames_num, frames_num, vector_len), train[:, -1]\n",
    "X_test, y_test = test[:, :-1].reshape(len(test) // frames_num, frames_num, vector_len), test[:, -1]"
   ]
  },
  {
   "cell_type": "markdown",
   "metadata": {},
   "source": [
    "X shape:\n",
    "* `number of .wav files`\n",
    "* `number of frames in each file`\n",
    "* `number of features describing each frame`"
   ]
  },
  {
   "cell_type": "code",
   "execution_count": 20,
   "metadata": {},
   "outputs": [
    {
     "data": {
      "text/plain": [
       "(547, 105, 148)"
      ]
     },
     "execution_count": 20,
     "metadata": {},
     "output_type": "execute_result"
    }
   ],
   "source": [
    "X_test.shape"
   ]
  },
  {
   "cell_type": "code",
   "execution_count": 21,
   "metadata": {},
   "outputs": [],
   "source": [
    "y_train = keras.utils.to_categorical(y_train, NUM_CLASSES).reshape(len(train) // frames_num, frames_num, NUM_CLASSES)\n",
    "y_test = keras.utils.to_categorical(y_test, NUM_CLASSES).reshape(len(test) // frames_num, frames_num, NUM_CLASSES)"
   ]
  },
  {
   "cell_type": "markdown",
   "metadata": {},
   "source": [
    "y shape:\n",
    "* `number of .wav files`\n",
    "* `number of frames in each file`\n",
    "* `one-hot encoding for two classes`"
   ]
  },
  {
   "cell_type": "code",
   "execution_count": 22,
   "metadata": {},
   "outputs": [
    {
     "data": {
      "text/plain": [
       "(547, 105, 2)"
      ]
     },
     "execution_count": 22,
     "metadata": {},
     "output_type": "execute_result"
    }
   ],
   "source": [
    "y_test.shape"
   ]
  },
  {
   "cell_type": "code",
   "execution_count": 23,
   "metadata": {},
   "outputs": [],
   "source": [
    "del data"
   ]
  },
  {
   "cell_type": "markdown",
   "metadata": {},
   "source": [
    "Creating simple many-to-many RNN model followed by fully connected layer."
   ]
  },
  {
   "cell_type": "code",
   "execution_count": 24,
   "metadata": {},
   "outputs": [],
   "source": [
    "model = Sequential()\n",
    "model.add(LSTM(100, return_sequences=True, input_shape=(frames_num, vector_len)))\n",
    "model.add(Dense(NUM_CLASSES, activation='softmax'))\n",
    "\n",
    "model.compile(loss='categorical_crossentropy',\n",
    "              optimizer='rmsprop',\n",
    "              metrics=['accuracy'])"
   ]
  },
  {
   "cell_type": "code",
   "execution_count": 25,
   "metadata": {},
   "outputs": [
    {
     "name": "stdout",
     "output_type": "stream",
     "text": [
      "Epoch 1/10\n",
      "2188/2188 [==============================] - 29s 13ms/step - loss: 0.4085 - acc: 0.8208\n",
      "Epoch 2/10\n",
      "2188/2188 [==============================] - 26s 12ms/step - loss: 0.1713 - acc: 0.9614\n",
      "Epoch 3/10\n",
      "2188/2188 [==============================] - 27s 12ms/step - loss: 0.1575 - acc: 0.9625\n",
      "Epoch 4/10\n",
      "2188/2188 [==============================] - 26s 12ms/step - loss: 0.1525 - acc: 0.9626\n",
      "Epoch 5/10\n",
      "2188/2188 [==============================] - 26s 12ms/step - loss: 0.1497 - acc: 0.9627\n",
      "Epoch 6/10\n",
      "2188/2188 [==============================] - 29s 13ms/step - loss: 0.1479 - acc: 0.9628\n",
      "Epoch 7/10\n",
      "2188/2188 [==============================] - 28s 13ms/step - loss: 0.1465 - acc: 0.9629\n",
      "Epoch 8/10\n",
      "2188/2188 [==============================] - 27s 12ms/step - loss: 0.1454 - acc: 0.9631\n",
      "Epoch 9/10\n",
      "2188/2188 [==============================] - 26s 12ms/step - loss: 0.1445 - acc: 0.9631\n",
      "Epoch 10/10\n",
      "2188/2188 [==============================] - 26s 12ms/step - loss: 0.1437 - acc: 0.9632\n"
     ]
    },
    {
     "data": {
      "text/plain": [
       "<keras.callbacks.History at 0x11b923650>"
      ]
     },
     "execution_count": 25,
     "metadata": {},
     "output_type": "execute_result"
    }
   ],
   "source": [
    "model.fit(X_train, y_train,\n",
    "          batch_size=10,\n",
    "          epochs=10,\n",
    "          verbose=1\n",
    "         )"
   ]
  },
  {
   "cell_type": "code",
   "execution_count": 26,
   "metadata": {},
   "outputs": [],
   "source": [
    "y_pred = model.predict(X_test)"
   ]
  },
  {
   "cell_type": "code",
   "execution_count": 27,
   "metadata": {},
   "outputs": [
    {
     "data": {
      "text/plain": [
       "(547, 105, 2)"
      ]
     },
     "execution_count": 27,
     "metadata": {},
     "output_type": "execute_result"
    }
   ],
   "source": [
    "y_test.shape"
   ]
  },
  {
   "cell_type": "code",
   "execution_count": 102,
   "metadata": {},
   "outputs": [
    {
     "data": {
      "text/plain": [
       "0.9606685818751632"
      ]
     },
     "execution_count": 102,
     "metadata": {},
     "output_type": "execute_result"
    }
   ],
   "source": [
    "(y_test[:, :, 1] == (y_pred[:, :, 1] > 0.3)).sum() / (547. * 105) # accuracy"
   ]
  },
  {
   "cell_type": "code",
   "execution_count": 29,
   "metadata": {},
   "outputs": [
    {
     "data": {
      "image/png": "[encoded data removed]",
      "text/plain": [
       "<matplotlib.figure.Figure at 0x11c956050>"
      ]
     },
     "metadata": {},
     "output_type": "display_data"
    }
   ],
   "source": [
    "from sklearn.metrics import roc_curve, auc\n",
    "\n",
    "# Compute ROC curve and ROC area for each class\n",
    "fpr = dict()\n",
    "tpr = dict()\n",
    "roc_auc = dict()\n",
    "for i in range(NUM_CLASSES):\n",
    "    fpr[i], tpr[i], _ = roc_curve(y_test.reshape(-1, 2)[:, i], y_pred.reshape(-1, 2)[:, i])\n",
    "    roc_auc[i] = auc(fpr[i], tpr[i])\n",
    "    \n",
    "# Compute micro-average ROC curve and ROC area\n",
    "fpr[\"micro\"], tpr[\"micro\"], _ = roc_curve(y_test.ravel(), y_pred.ravel())\n",
    "roc_auc[\"micro\"] = auc(fpr[\"micro\"], tpr[\"micro\"])\n",
    "\n",
    "class_id = 1\n",
    "\n",
    "plt.figure()\n",
    "lw = 2\n",
    "plt.plot(fpr[class_id], tpr[class_id], color='darkorange',\n",
    "         lw=lw, label='ROC curve (area = %0.2f)' % roc_auc[class_id])\n",
    "plt.plot([0, 1], [0, 1], color='navy', lw=lw, linestyle='--')\n",
    "plt.xlim([0.0, 1.0])\n",
    "plt.ylim([0.0, 1.05])\n",
    "plt.xlabel('False Positive Rate')\n",
    "plt.ylabel('True Positive Rate')\n",
    "plt.title('Receiver operating characteristic')\n",
    "plt.legend(loc=\"lower right\")\n",
    "plt.show()"
   ]
  },
  {
   "cell_type": "markdown",
   "metadata": {},
   "source": [
    "Let's display a couple samples with true intervals and predicted probability."
   ]
  },
  {
   "cell_type": "code",
   "execution_count": 30,
   "metadata": {},
   "outputs": [],
   "source": [
    "ind_to_display = np.argsort(y_test[:, :, 1].sum(axis=1))[-3:]"
   ]
  },
  {
   "cell_type": "code",
   "execution_count": 31,
   "metadata": {},
   "outputs": [
    {
     "data": {
      "image/png": "[encoded data removed]",
      "text/plain": [
       "<matplotlib.figure.Figure at 0x11e1cadd0>"
      ]
     },
     "metadata": {},
     "output_type": "display_data"
    }
   ],
   "source": [
    "fig = plt.figure(figsize=(18, 4))\n",
    "\n",
    "for i, ind in enumerate(ind_to_display):\n",
    "    ax = fig.add_subplot(1, 3, i+1)\n",
    "    ax.plot(np.arange(frames_num), y_test[ind][:, 1], label='true')\n",
    "    ax.plot(np.arange(frames_num), y_pred[ind][:, 1], label='pred')"
   ]
  },
  {
   "cell_type": "markdown",
   "metadata": {},
   "source": [
    "Saving model. It will be used in `laughter_prediction.predictors` to detect laughter segments. To run `laughter_prediction.predictors` run the following command:\n",
    "\n",
    "\n",
    "`python2 process_audio.py --wav_path=<wav_path>`\n",
    "\n",
    "\n",
    "For example:\n",
    "> `python2 process_audio.py --wav_path=\"../../data/vocalizationcorpus/data/S1582.wav\"`\n",
    "\n",
    "> \\>`Target intervals`\n",
    "\n",
    "> \\>`[(0.7, 1.2), (1.2, 1.8), (3.6, 4.1)]`\n"
   ]
  },
  {
   "cell_type": "code",
   "execution_count": 41,
   "metadata": {},
   "outputs": [],
   "source": [
    "model.save('../rnn-model.h5')"
   ]
  },
  {
   "cell_type": "markdown",
   "metadata": {},
   "source": [
    "Model description:"
   ]
  },
  {
   "cell_type": "code",
   "execution_count": 87,
   "metadata": {},
   "outputs": [
    {
     "name": "stdout",
     "output_type": "stream",
     "text": [
      "2188/2188 [==============================] - 3s 2ms/step\n"
     ]
    },
    {
     "data": {
      "text/plain": [
       "[0.1428294675169305, 0.9631844691428232]"
      ]
     },
     "execution_count": 87,
     "metadata": {},
     "output_type": "execute_result"
    }
   ],
   "source": [
    "model.evaluate(X_train, y_train) # log loss, accuracy"
   ]
  },
  {
   "cell_type": "code",
   "execution_count": 86,
   "metadata": {},
   "outputs": [
    {
     "name": "stdout",
     "output_type": "stream",
     "text": [
      "547/547 [==============================] - 1s 2ms/step\n"
     ]
    },
    {
     "data": {
      "text/plain": [
       "[0.1430753255075685, 0.9648820434235568]"
      ]
     },
     "execution_count": 86,
     "metadata": {},
     "output_type": "execute_result"
    }
   ],
   "source": [
    "model.evaluate(X_test, y_test)"
   ]
  },
  {
   "cell_type": "code",
   "execution_count": 85,
   "metadata": {},
   "outputs": [
    {
     "data": {
      "text/plain": [
       "[{'class_name': 'LSTM',\n",
       "  'config': {'activation': 'tanh',\n",
       "   'activity_regularizer': None,\n",
       "   'batch_input_shape': (None, 105, 148),\n",
       "   'bias_constraint': None,\n",
       "   'bias_initializer': {'class_name': 'Zeros', 'config': {}},\n",
       "   'bias_regularizer': None,\n",
       "   'dropout': 0.0,\n",
       "   'dtype': 'float32',\n",
       "   'go_backwards': False,\n",
       "   'implementation': 1,\n",
       "   'kernel_constraint': None,\n",
       "   'kernel_initializer': {'class_name': 'VarianceScaling',\n",
       "    'config': {'distribution': 'uniform',\n",
       "     'mode': 'fan_avg',\n",
       "     'scale': 1.0,\n",
       "     'seed': None}},\n",
       "   'kernel_regularizer': None,\n",
       "   'name': 'lstm_2',\n",
       "   'recurrent_activation': 'hard_sigmoid',\n",
       "   'recurrent_constraint': None,\n",
       "   'recurrent_dropout': 0.0,\n",
       "   'recurrent_initializer': {'class_name': 'Orthogonal',\n",
       "    'config': {'gain': 1.0, 'seed': None}},\n",
       "   'recurrent_regularizer': None,\n",
       "   'return_sequences': True,\n",
       "   'return_state': False,\n",
       "   'stateful': False,\n",
       "   'trainable': True,\n",
       "   'unit_forget_bias': True,\n",
       "   'units': 100,\n",
       "   'unroll': False,\n",
       "   'use_bias': True}},\n",
       " {'class_name': 'Dense',\n",
       "  'config': {'activation': 'softmax',\n",
       "   'activity_regularizer': None,\n",
       "   'bias_constraint': None,\n",
       "   'bias_initializer': {'class_name': 'Zeros', 'config': {}},\n",
       "   'bias_regularizer': None,\n",
       "   'kernel_constraint': None,\n",
       "   'kernel_initializer': {'class_name': 'VarianceScaling',\n",
       "    'config': {'distribution': 'uniform',\n",
       "     'mode': 'fan_avg',\n",
       "     'scale': 1.0,\n",
       "     'seed': None}},\n",
       "   'kernel_regularizer': None,\n",
       "   'name': 'dense_2',\n",
       "   'trainable': True,\n",
       "   'units': 2,\n",
       "   'use_bias': True}}]"
      ]
     },
     "execution_count": 85,
     "metadata": {},
     "output_type": "execute_result"
    }
   ],
   "source": [
    "model.get_config()"
   ]
  },
  {
   "cell_type": "code",
   "execution_count": null,
   "metadata": {},
   "outputs": [],
   "source": []
  }
 ],
 "metadata": {
  "kernelspec": {
   "display_name": "Python 2",
   "language": "python",
   "name": "python2"
  },
  "language_info": {
   "codemirror_mode": {
    "name": "ipython",
    "version": 2
   },
   "file_extension": ".py",
   "mimetype": "text/x-python",
   "name": "python",
   "nbconvert_exporter": "python",
   "pygments_lexer": "ipython2",
   "version": "2.7.13"
  }
 },
 "nbformat": 4,
 "nbformat_minor": 2
}
